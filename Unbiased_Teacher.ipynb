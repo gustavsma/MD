{
  "cells": [
    {
      "cell_type": "markdown",
      "metadata": {
        "id": "view-in-github",
        "colab_type": "text"
      },
      "source": [
        "<a href=\"https://colab.research.google.com/github/gustavsma/MD/blob/main/Unbiased_Teacher.ipynb\" target=\"_parent\"><img src=\"https://colab.research.google.com/assets/colab-badge.svg\" alt=\"Open In Colab\"/></a>"
      ]
    },
    {
      "cell_type": "markdown",
      "metadata": {
        "id": "PTBvwf0LoYgv"
      },
      "source": [
        "# Unbiased Teacher for custom dataset"
      ]
    },
    {
      "cell_type": "markdown",
      "metadata": {
        "id": "qWuQEpVbodlu"
      },
      "source": [
        "\n",
        "This notebook is intened as an example for custom dateset with no annotations for the unlabelled images.\n",
        "\n",
        "\n",
        "**Instructions**\n",
        "\n",
        "1.   Register dataset.\n",
        "\n",
        "To do so, add the following code to train_net.py:\n",
        "\n",
        "```\n",
        "from detectron2.data.datasets import register_coco_instances\n",
        "\n",
        "register_coco_instances(\"***YOR DATASET NAME***\", {}, \"***PATH TO ANNOTATION JSON FILE***\", \"***PATH TO IMG FOLDER***\")\n",
        "```\n",
        "\n",
        "Do so for both training and validation datasets. Training dataset should include both labeled and unlabeled images.\n",
        "\n",
        "Replace this code in `unbiased-teacher/ubteacher/data/build.py`:\n",
        "```\n",
        "# read from pre-generated data seed\n",
        "    with open(random_data_seed_path) as COCO_sup_file:\n",
        "        coco_random_idx = json.load(COCO_sup_file)\n",
        "\n",
        "labeled_idx = np.array(coco_random_idx[str(SupPercent)][str(random_data_seed)])\n",
        "```\n",
        "With:\n",
        "`labeled_idx = np.array([i for i in range(1, num_label+1)])`\n",
        "\n",
        "Please note that in order for this code to work labelled images must come first in your custom dataset. If you do not know how to do that:\n",
        "\n",
        "Load both labelled and unlabelled images in an annotation softer that can export COCO format annotations (e.g CVAT). Make sure that labelled images are loaded first. Export tham in COCO format.\n",
        "\n",
        "2.   Create a config file with your dataset and number of classes:\n",
        "\n",
        "```\n",
        "DATASETS:\n",
        "  CROSS_DATASET: False\n",
        "  TRAIN: (\"***YOR TRAIN DATASET NAME***\",)\n",
        "  TEST: (\"***YOR TEST DATASET NAME***\",)\n",
        "```\n",
        "```\n",
        " ROI_HEADS:\n",
        "    NAME: \"StandardROIHeadsPseudoLab\"\n",
        "    LOSS: \"FocalLoss\"\n",
        "    NUM_CLASSES: 1\n",
        "```\n",
        "A good idea would be to make a copy of `unbiased-teacher/configs/coco_supervision/faster_rcnn_R_50_FPN_sup1_run1.yaml` and replace it with your required parameters. The ones mentioned above are the ones that are required, feel fre to change others aswell.\n",
        "\n"
      ]
    },
    {
      "cell_type": "markdown",
      "metadata": {
        "id": "sOM2nw3QvT3k"
      },
      "source": [
        "## 0. Setup"
      ]
    },
    {
      "cell_type": "code",
      "execution_count": null,
      "metadata": {
        "id": "Fi31JODC1z0g"
      },
      "outputs": [],
      "source": [
        "import os\n",
        "from google.colab import drive\n",
        "\n",
        "drive.mount('/content/gdrive')"
      ]
    },
    {
      "cell_type": "code",
      "execution_count": null,
      "metadata": {
        "id": "KoDztFnaTUms"
      },
      "outputs": [],
      "source": [
        "# %cd /content/gdrive/MyDrive\n",
        "# !git clone https://github.com/facebookresearch/unbiased-teacher\n",
        "\n",
        "# %cd /content/gdrive/MyDrive/unbiased-teacher\n",
        "# !mkdir datasets"
      ]
    },
    {
      "cell_type": "code",
      "execution_count": null,
      "metadata": {
        "id": "KKoVe-tVsiVr"
      },
      "outputs": [],
      "source": [
        "!python -m pip install 'git+https://github.com/facebookresearch/detectron2.git'"
      ]
    },
    {
      "cell_type": "code",
      "execution_count": null,
      "metadata": {
        "id": "MIBjEDJDasH7"
      },
      "outputs": [],
      "source": [
        "# %cd /content/gdrive/MyDrive/unbiased-teacher/datasets\n",
        "# !ln -s /content/gdrive/MyDrive/data/coco weeds"
      ]
    },
    {
      "cell_type": "markdown",
      "metadata": {
        "id": "nfYr9znKzdmS"
      },
      "source": [
        "## 1. Training"
      ]
    },
    {
      "cell_type": "markdown",
      "metadata": {
        "id": "H15YS_4YSfWW"
      },
      "source": [
        "**BASE:**"
      ]
    },
    {
      "cell_type": "code",
      "execution_count": null,
      "metadata": {
        "id": "cjezmB-TgWOU"
      },
      "outputs": [],
      "source": [
        "%%bash\n",
        "cd /content/gdrive/MyDrive/unbiased-teacher\n",
        "python train_net.py \\\n",
        "      --num-gpus 1 \\\n",
        "      --config configs/coco_supervision/weeds_base.yaml"
      ]
    },
    {
      "cell_type": "markdown",
      "metadata": {
        "id": "VCwNtYAML9W6"
      },
      "source": [
        "**SSL:**"
      ]
    },
    {
      "cell_type": "code",
      "execution_count": null,
      "metadata": {
        "id": "7MWlevLbmEuZ"
      },
      "outputs": [],
      "source": [
        "%%bash\n",
        "cd /content/gdrive/MyDrive/unbiased-teacher\n",
        "python train_net.py \\\n",
        "      --num-gpus 1 \\\n",
        "      --config configs/coco_supervision/weeds_ssl.yaml \\\n",
        "      DATALOADER.SUP_PERCENT 9.1"
      ]
    },
    {
      "cell_type": "markdown",
      "metadata": {
        "id": "Kq8gtnu6Sipx"
      },
      "source": [
        "**RESUME:**"
      ]
    },
    {
      "cell_type": "code",
      "execution_count": null,
      "metadata": {
        "id": "G3-xPhtnRSps"
      },
      "outputs": [],
      "source": [
        "%%bash\n",
        "cd /content/gdrive/MyDrive/unbiased-teacher\n",
        "python train_net.py \\\n",
        "      --resume \\\n",
        "      --num-gpus 1 \\\n",
        "      --config configs/coco_supervision/weeds_ssl.yaml \\\n",
        "       DATALOADER.SUP_PERCENT 9.1 MODEL.WEIGHTS /content/gdrive/MyDrive/unbiased-teacher/output/model_final.pth"
      ]
    },
    {
      "cell_type": "markdown",
      "metadata": {
        "id": "9kFt4tBnSl0M"
      },
      "source": [
        "**ZIP OUTPUT:**"
      ]
    },
    {
      "cell_type": "code",
      "execution_count": null,
      "metadata": {
        "id": "xwjfxqgFfAsJ"
      },
      "outputs": [],
      "source": [
        "!zip -r /content/gdrive/MyDrive/x10.zip /content/gdrive/MyDrive/unbiased-teacher/output"
      ]
    },
    {
      "cell_type": "markdown",
      "metadata": {
        "id": "fpkYcyyuzknR"
      },
      "source": [
        "## 2. Eval"
      ]
    },
    {
      "cell_type": "code",
      "execution_count": null,
      "metadata": {
        "id": "isBLwgnyyiQK"
      },
      "outputs": [],
      "source": [
        "%%bash\n",
        "cd /content/gdrive/MyDrive/unbiased-teacher\n",
        "python train_net.py \\\n",
        "      --eval-only \\\n",
        "      --num-gpus 1 \\\n",
        "      --config configs/coco_supervision/weeds_ssl.yaml \\\n",
        "      MODEL.WEIGHTS output/model_best.pth"
      ]
    },
    {
      "cell_type": "markdown",
      "metadata": {
        "id": "d2LYiAvrzn44"
      },
      "source": [
        "## 3. Inference"
      ]
    },
    {
      "cell_type": "code",
      "execution_count": null,
      "metadata": {
        "id": "Os6AB_4ICBUx"
      },
      "outputs": [],
      "source": [
        "from detectron2.data.datasets import register_coco_instances\n",
        "\n",
        "register_coco_instances(\"weeds_train_base\", {}, \"/content/gdrive/MyDrive/unbiased-teacher/datasets/weeds/annotations/instances_train_base.json\", \"/content/gdrive/MyDrive/unbiased-teacher/datasets/weeds/train_base\")\n",
        "register_coco_instances(\"weeds_train_x1\", {}, \"/content/gdrive/MyDrive/unbiased-teacher/datasets/weeds/annotations/instances_train_x1.json\", \"/content/gdrive/MyDrive/unbiased-teacher/datasets/weeds/train_x1\")\n",
        "register_coco_instances(\"weeds_train_x2\", {}, \"/content/gdrive/MyDrive/unbiased-teacher/datasets/weeds/annotations/instances_train_x2.json\", \"/content/gdrive/MyDrive/unbiased-teacher/datasets/weeds/train_x2\")\n",
        "register_coco_instances(\"weeds_train_x5\", {}, \"/content/gdrive/MyDrive/unbiased-teacher/datasets/weeds/annotations/instances_train_x5.json\", \"/content/gdrive/MyDrive/unbiased-teacher/datasets/weeds/train_x5\")\n",
        "register_coco_instances(\"weeds_train_x10\", {}, \"/content/gdrive/MyDrive/unbiased-teacher/datasets/weeds/annotations/instances_train_x10.json\", \"/content/gdrive/MyDrive/unbiased-teacher/datasets/weeds/train_x10\")\n",
        "register_coco_instances(\"weeds_val\", {}, \"/content/gdrive/MyDrive/unbiased-teacher/datasets/weeds/annotations/instances_val.json\", \"/content/gdrive/MyDrive/unbiased-teacher/datasets/weeds/val\")\n",
        "register_coco_instances(\"weeds_test\", {}, \"/content/gdrive/MyDrive/unbiased-teacher/datasets/weeds/annotations/instances_test.json\", \"/content/gdrive/MyDrive/unbiased-teacher/datasets/weeds/test\")"
      ]
    },
    {
      "cell_type": "code",
      "execution_count": null,
      "metadata": {
        "id": "dmrbSCjSFsYZ"
      },
      "outputs": [],
      "source": [
        "from detectron2.config import get_cfg\n",
        "\n",
        "cfg = get_cfg()\n",
        "\n",
        "cfg.merge_from_file(\"/content/gdrive/MyDrive/unbiased-teacher/configs/Base-RCNN-FPN.yaml\")\n",
        "cfg.MODEL.WEIGHTS = os.path.join(\"/content/gdrive/MyDrive/unbiased-teacher/output/model_best.pth\")\n",
        "cfg.MODEL.ROI_HEADS.NUM_CLASSES = 1\n",
        "cfg.MODEL.ROI_HEADS.SCORE_THRESH_TEST = 0.70\n",
        "cfg.DATASETS.TRAIN = (\"weeds_train_x10\", )\n",
        "cfg.DATASETS.TEST = (\"weeds_test\", )"
      ]
    },
    {
      "cell_type": "code",
      "execution_count": null,
      "metadata": {
        "id": "0cgdaNCy2QUN"
      },
      "outputs": [],
      "source": [
        "%cd /content/gdrive/MyDrive/unbiased-teacher\n",
        "\n",
        "from detectron2.data import DatasetCatalog\n",
        "import cv2, random\n",
        "from google.colab.patches import cv2_imshow\n",
        "from detectron2.utils.visualizer import Visualizer\n",
        "from ubteacher.engine.trainer import CustomPredictor\n",
        "\n",
        "\n",
        "dataset_dicts = DatasetCatalog.get(\"weeds_test\")\n",
        "predictor = CustomPredictor(cfg)\n",
        "\n",
        "for count, d in enumerate(dataset_dicts[:2]):    \n",
        "    im = cv2.imread(d[\"file_name\"])\n",
        "    outputs = predictor(im) \n",
        "    v = Visualizer(im[:, :, ::-1],\n",
        "                   scale=1\n",
        "    )\n",
        "    out = v.draw_instance_predictions(outputs[\"instances\"].to(\"cpu\"))\n",
        "\n",
        "    img = out.get_image()\n",
        "\n",
        "    for ann in d['annotations']:\n",
        "      c = ann['bbox']\n",
        "\n",
        "      xmin = int(c[0] + c[2])\n",
        "      ymin = int(c[1] + c[3])\n",
        "      xmax = int(c[0])\n",
        "      ymax = int(c[1])\n",
        "\n",
        "      img = cv2.rectangle(img, (xmin, ymin), (xmax, ymax), (255, 0, 0), 2)\n",
        "\n",
        "    cv2_imshow(img[:, :, ::-1])\n",
        "\n",
        "    # path = '/content/imgs'\n",
        "    # cv2.imwrite(os.path.join(path , str(count) + '.jpg'), out.get_image()[:, :, ::-1])\n",
        "    # cv2.waitKey(0)"
      ]
    }
  ],
  "metadata": {
    "accelerator": "GPU",
    "colab": {
      "collapsed_sections": [
        "sOM2nw3QvT3k",
        "fpkYcyyuzknR"
      ],
      "machine_shape": "hm",
      "name": "Unbiased_Teacher.ipynb",
      "provenance": [],
      "authorship_tag": "ABX9TyP5G7N4ecl76FIdnzEJekAr",
      "include_colab_link": true
    },
    "kernelspec": {
      "display_name": "Python 3",
      "name": "python3"
    },
    "language_info": {
      "name": "python"
    }
  },
  "nbformat": 4,
  "nbformat_minor": 0
}