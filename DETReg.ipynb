{
  "cells": [
    {
      "cell_type": "markdown",
      "metadata": {
        "id": "view-in-github",
        "colab_type": "text"
      },
      "source": [
        "<a href=\"https://colab.research.google.com/github/gustavsma/MD/blob/main/DETReg.ipynb\" target=\"_parent\"><img src=\"https://colab.research.google.com/assets/colab-badge.svg\" alt=\"Open In Colab\"/></a>"
      ]
    },
    {
      "cell_type": "markdown",
      "metadata": {
        "id": "RzpLXDDG_4YB"
      },
      "source": [
        "# Setup"
      ]
    },
    {
      "cell_type": "code",
      "execution_count": null,
      "metadata": {
        "id": "2OZuGHAJuENZ"
      },
      "outputs": [],
      "source": [
        "import os\n",
        "from google.colab import drive\n",
        "\n",
        "drive.mount('/content/gdrive',force_remount=True)"
      ]
    },
    {
      "cell_type": "code",
      "execution_count": null,
      "metadata": {
        "id": "gqroQ8Xg5GHi"
      },
      "outputs": [],
      "source": [
        "# %cd /content/gdrive/MyDrive\n",
        "# !git clone https://github.com/amirbar/DETReg.git"
      ]
    },
    {
      "cell_type": "code",
      "execution_count": null,
      "metadata": {
        "id": "1laxYlchARKh"
      },
      "outputs": [],
      "source": [
        "#!pip install torch==1.9.0+cu111 torchvision==0.10.0+cu111 torchaudio==0.9.0 -f https://download.pytorch.org/whl/torch_stable.html\n",
        "!pip install torch==1.9.0 torchvision==0.10.0 torchaudio==0.9.0\n",
        "!pip uninstall transformers\n",
        "!pip install transformers==4.8.0\n",
        "\n",
        "%cd /content/gdrive/MyDrive/DETReg\n",
        "!pip install -r requirements.txt"
      ]
    },
    {
      "cell_type": "code",
      "execution_count": null,
      "metadata": {
        "id": "ipSSr_gMvzPh"
      },
      "outputs": [],
      "source": [
        "%cd /content/gdrive/MyDrive/DETReg/models/ops\n",
        "!sh make.sh"
      ]
    },
    {
      "cell_type": "code",
      "execution_count": null,
      "metadata": {
        "id": "o72EVXNaGaAG"
      },
      "outputs": [],
      "source": [
        "# %cd /content/gdrive/MyDrive/DETReg/\n",
        "# !ln -s /content/gdrive/MyDrive/data/ data"
      ]
    },
    {
      "cell_type": "code",
      "execution_count": null,
      "metadata": {
        "id": "X2NiLsTmDE_Y"
      },
      "outputs": [],
      "source": [
        "!chmod 755 -R /content/gdrive/MyDrive/DETReg/"
      ]
    },
    {
      "cell_type": "markdown",
      "metadata": {
        "id": "ekTWoGGy_7ZA"
      },
      "source": [
        "# Pretrain"
      ]
    },
    {
      "cell_type": "code",
      "execution_count": null,
      "metadata": {
        "id": "iYcaY13J-7h9"
      },
      "outputs": [],
      "source": [
        "%cd /content/gdrive/MyDrive/DETReg/\n",
        "!GPUS_PER_NODE=1 tools/run_dist_launch.sh 1 configs/pre_train.sh --output_dir exps/pretrain --batch_size 2 --epochs 100 --pretrain exps/DETReg_top30_in/checkpoint_coco.pth"
      ]
    },
    {
      "cell_type": "markdown",
      "metadata": {
        "id": "VgMa91IZABi1"
      },
      "source": [
        "# Finetune"
      ]
    },
    {
      "cell_type": "markdown",
      "metadata": {
        "id": "cLdMEkqmAYZc"
      },
      "source": [
        "### SSL"
      ]
    },
    {
      "cell_type": "code",
      "execution_count": null,
      "metadata": {
        "id": "BOFWtVAyxsR0"
      },
      "outputs": [],
      "source": [
        "%cd /content/gdrive/MyDrive/DETReg/\n",
        "!GPUS_PER_NODE=1 tools/run_dist_launch.sh 1 configs/fine_tune.sh --pretrain exps/pretrain/checkpoint0079.pth --output_dir exps/weeds_ssl --batch_size 2"
      ]
    },
    {
      "cell_type": "markdown",
      "metadata": {
        "id": "DYuSEraIAaU6"
      },
      "source": [
        "### SL"
      ]
    },
    {
      "cell_type": "code",
      "execution_count": null,
      "metadata": {
        "id": "uQ6IBvd6HSGS"
      },
      "outputs": [],
      "source": [
        "# %cd /content/gdrive/MyDrive/DETReg/exps/DETReg_top30_in\n",
        "# !wget https://github.com/amirbar/DETReg/releases/download/1.0.0/checkpoint_coco.pth"
      ]
    },
    {
      "cell_type": "code",
      "execution_count": null,
      "metadata": {
        "id": "p6QrKcdkEw3n"
      },
      "outputs": [],
      "source": [
        "%cd /content/gdrive/MyDrive/DETReg/\n",
        "!GPUS_PER_NODE=1 tools/run_dist_launch.sh 1 configs/fine_tune.sh --pretrain exps/DETReg_top30_in/checkpoint_coco.pth --output_dir exps/weeds_sl --batch_size 2"
      ]
    },
    {
      "cell_type": "markdown",
      "metadata": {
        "id": "PN4Fdj6C6qgf"
      },
      "source": [
        "# Eval"
      ]
    },
    {
      "cell_type": "code",
      "execution_count": null,
      "metadata": {
        "id": "1vUwl93d6s4b"
      },
      "outputs": [],
      "source": [
        "%cd /content/gdrive/MyDrive/DETReg/\n",
        "\n",
        "!configs/fine_tune.sh --resume exps/weeds_ssl/checkpoint0494.pth --eval\n",
        "#!configs/fine_tune.sh --resume exps/weeds_sl/checkpoint0499.pth --eval"
      ]
    }
  ],
  "metadata": {
    "accelerator": "GPU",
    "colab": {
      "collapsed_sections": [
        "RzpLXDDG_4YB",
        "ekTWoGGy_7ZA",
        "cLdMEkqmAYZc"
      ],
      "machine_shape": "hm",
      "name": "DETReg.ipynb",
      "provenance": [],
      "authorship_tag": "ABX9TyMFnTiwgjoHsDM/oyuLldN6",
      "include_colab_link": true
    },
    "kernelspec": {
      "display_name": "Python 3",
      "name": "python3"
    },
    "language_info": {
      "name": "python"
    }
  },
  "nbformat": 4,
  "nbformat_minor": 0
}